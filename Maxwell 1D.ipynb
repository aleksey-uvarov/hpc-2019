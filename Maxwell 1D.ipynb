{
 "cells": [
  {
   "cell_type": "markdown",
   "metadata": {},
   "source": [
    "1D Maxwell equations\n",
    "===========\n",
    "\n",
    "Maxwell's equations read (speed of light = 1):\n",
    "\n",
    "$$\n",
    "\\partial_t\\vec B = -\\mathrm{rot}\\vec E\\\\\n",
    "\\partial_t\\vec E = \\mathrm{rot}\\vec B\n",
    "$$\n",
    "\n",
    "Writing all the components we get for magnetic field:\n",
    "\n",
    "$$\n",
    "\\partial_t B_x = -\\left(\\partial_y E_z - \\partial_z E_y \\right)\\\\\n",
    "\\partial_t B_y = -\\left(\\partial_y E_x - \\partial_z E_z \\right)\\\\\n",
    "\\partial_t B_z = -\\left(\\partial_y E_y - \\partial_z E_x \\right)\\\\\n",
    "$$\n",
    "\n",
    "And for electric field:\n",
    "$$\n",
    "\\partial_t E_x = \\left(\\partial_y B_z - \\partial_z B_y \\right)\\\\\n",
    "\\partial_t E_y = \\left(\\partial_y B_x - \\partial_z B_z \\right)\\\\\n",
    "\\partial_t E_z = \\left(\\partial_y B_y - \\partial_z B_x \\right)\\\\\n",
    "$$\n",
    "\n",
    "Assume 1D geometry, i.e. everything depends only on $t$ and $x$ (infinitely large electromagnetic waves in $y$ and $z$ dimensions). Then we get:\n",
    "\n",
    "$$\n",
    "\\partial_t B_y = \\partial_x E_z\\\\\n",
    "\\partial_t B_z = -\\partial_x E_y\n",
    "$$\n",
    "\n",
    "and \n",
    "\n",
    "$$\n",
    "\\partial_t E_y= - \\partial_x B_z\\\\\n",
    "\\partial_t E_z= \\partial_x B_y\n",
    "$$\n",
    "\n",
    "One can see, that these 4 equations can be split into two parts (they are called polarizations of the wave): $E_y, B_z$ (p-polarization) and $E_z, B_y$ (s-polarization)\n",
    "\n",
    "We get two separate and completely independent sets of equations:\n",
    "\n",
    "1. P-polarization\n",
    "-----------------\n",
    "\n",
    "$$\n",
    "\\partial_t E_y= - \\partial_x B_z\\\\\n",
    "\\partial_t B_z = -\\partial_x E_y\n",
    "$$\n",
    "\n",
    "2. S-polarization\n",
    "-----------------\n",
    "\n",
    "$$\n",
    "\\partial_t E_z= \\partial_x B_y\\\\\n",
    "\\partial_t B_y = \\partial_x E_z\n",
    "$$\n"
   ]
  },
  {
   "cell_type": "markdown",
   "metadata": {},
   "source": [
    "Task 1\n",
    "------\n",
    "\n",
    "Before proceeding with numerical solution of these equations (let us for simplicity and saving time only deal with p-polarization today) think of a numerical scheme how to solve equations. There are many numerical methods to do this, but can you without looking further in the text come up with one? \n",
    "\n",
    "Tip: if you understand what a fractional (1/2) time or spatial step means - you can use it."
   ]
  },
  {
   "cell_type": "markdown",
   "metadata": {},
   "source": [
    "#### My answer\n",
    "\n",
    "I know a simple explicit scheme for that. It consists in replacing the partial derivatives with finite differences. Let $E'_i$ denote the value of the field in lattice site $i$ on the next time step. Then we can find it in the following way:\n",
    "\n",
    "$$\n",
    "E'_i = E_i - \\frac{\\tau}{2 \\Delta x} (B_{i+1} - B_{i-1}).\n",
    "$$\n",
    "\n",
    "Same for $B'$."
   ]
  },
  {
   "cell_type": "markdown",
   "metadata": {},
   "source": [
    "Numerical scheme\n",
    "----------------\n",
    "\n",
    "Let's look again at the equations for p-polarization:\n",
    "$$\n",
    "\\partial_t E_y= - \\partial_x B_z\\\\\n",
    "\\partial_t B_z = -\\partial_x E_y\n",
    "$$\n",
    "\n",
    "Lets sum equations and substract equations and use notation $F_+=E_y+B_z$ and $F_-=E_y-B_z$:\n",
    "\n",
    "$$\n",
    "\\left(\\partial_t + \\partial_x\\right)F_+ = 0\\\\\n",
    "\\left(\\partial_t - \\partial_x\\right)F_- = 0\n",
    "$$"
   ]
  },
  {
   "cell_type": "markdown",
   "metadata": {},
   "source": [
    "Task 2\n",
    "------\n",
    "\n",
    "One of the new fields $F_+$ and $F_-$ corresponds to the wave going from left to right and one to the wave going from right to left. Which is which?"
   ]
  },
  {
   "cell_type": "markdown",
   "metadata": {},
   "source": [
    "#### My answer\n",
    "\n",
    "Consider the second equation. The derivative on time is equal to the derivative on space. This is possible when $F$ is a function of $x + t$. On the $x, t$ plane the function is consant along the straight lines $x + t = C$, or, equivalently, $x = C - t$ which is a trajectory moving to the left. So, the first equation propagates waves to the right, the second one -- to the left."
   ]
  },
  {
   "cell_type": "markdown",
   "metadata": {},
   "source": [
    "Task 3\n",
    "------\n",
    "\n",
    "Derive the numerical scheme (consider the time step equals to spatial step, i.e. $\\Delta t$ = $\\Delta x$):\n",
    "\n",
    "$$\n",
    "F_{+,i}^{n+1} = F_{+,i-1}^n\\\\\n",
    "F_{-,i}^{n+1} = F_{-,i+1}^n\n",
    "$$"
   ]
  },
  {
   "cell_type": "markdown",
   "metadata": {},
   "source": [
    "#### My answer\n",
    "\n",
    "Replace the time derivative with forward finite difference, and the space derivative with the backward space derivative (I omit indices if they correspond to \"current\" space or time position):\n",
    "\n",
    "$$\n",
    "\\frac{1}{\\Delta t}(F_+^{n+1} - F_+) + \\frac{1}{\\Delta x} (F_+ - F_{+, i-1}) = 0.\n",
    "$$\n",
    "For equal space and time stepsizes, the $F_+$ cancel out and yield the desired scheme. \n",
    "\n",
    "For $F_-$, you need a forward space derivative."
   ]
  },
  {
   "cell_type": "markdown",
   "metadata": {},
   "source": [
    "Task 4\n",
    "------\n",
    "\n",
    "Consider 1D computational domain of length $L=2\\pi \\cdot 40$ (you can vary the numbers later), consider only  $F_+$\n",
    "\n",
    "$$\n",
    "\\Delta t = \\Delta x = \\frac{2\\pi}{1000}\n",
    "$$\n",
    "\n",
    "Initially there are no fields in the computational domain.\n",
    "\n",
    "Boundary condition:\n",
    "\n",
    "$$\n",
    "F_+(x=0,t)=sin(t),\\quad \\mathrm{if}\\quad t<2\\pi\\cdot 10\\\\\n",
    "F_+(x=0,t)=0, \\mathrm{otherwise}\n",
    "$$\n",
    "\n",
    "Write a code (for example in Python for prototyping) that solves 1D Maxwell equations.\n"
   ]
  },
  {
   "cell_type": "code",
   "execution_count": 1,
   "metadata": {},
   "outputs": [],
   "source": [
    "import numpy as np\n",
    "import matplotlib.pyplot as plt\n",
    "from copy import deepcopy\n",
    "from numba import jit, njit"
   ]
  },
  {
   "cell_type": "code",
   "execution_count": 2,
   "metadata": {},
   "outputs": [],
   "source": [
    "dt = np.pi / 100\n",
    "dx = dt\n",
    "L = 2 * np.pi * 40\n",
    "N = int(L // dx)\n",
    "t_max = 40 * np.pi * 2\n",
    "n_steps = int(t_max / dt)\n",
    "\n",
    "\n",
    "\n",
    "def f_boundary(t):\n",
    "    \"\"\"Boundary condition on the left wall. \n",
    "    We don't care about the right wall right now\"\"\"\n",
    "    return np.sin(t) if t < 2 * np.pi * 10 else 0\n",
    "\n"
   ]
  },
  {
   "cell_type": "code",
   "execution_count": 3,
   "metadata": {},
   "outputs": [
    {
     "name": "stdout",
     "output_type": "stream",
     "text": [
      "CPU times: user 679 ms, sys: 196 ms, total: 875 ms\n",
      "Wall time: 966 ms\n"
     ]
    }
   ],
   "source": [
    "%%time\n",
    "\n",
    "f_plus_total = []\n",
    "initial_conditions = [0] * N\n",
    "f_plus_total.append(initial_conditions)\n",
    "\n",
    "@njit\n",
    "def timestep(old_sol, t):\n",
    "#     new_solution = deepcopy(old_sol)\n",
    "#     new_solution.pop(-1)\n",
    "#     new_solution = [f_boundary(i * dt)] + new_solution\n",
    "    new_solution = np.zeros(N)\n",
    "    new_solution[0] = np.sin(t) if t < 2 * np.pi * 10 else 0\n",
    "    for j in range(1, N):\n",
    "        new_solution[j] = old_sol[j - 1]\n",
    "    return new_solution\n",
    "\n",
    "for i in range(1, n_steps):\n",
    "    new_solution = timestep(f_plus_total[-1], i * dt)\n",
    "    f_plus_total.append(new_solution)\n"
   ]
  },
  {
   "cell_type": "markdown",
   "metadata": {},
   "source": [
    "701 ms with njit, 18.4 s without it"
   ]
  },
  {
   "cell_type": "code",
   "execution_count": 4,
   "metadata": {},
   "outputs": [
    {
     "data": {
      "text/plain": [
       "<matplotlib.colorbar.Colorbar at 0x7ff971e77748>"
      ]
     },
     "execution_count": 4,
     "metadata": {},
     "output_type": "execute_result"
    },
    {
     "data": {
      "image/png": "[encoded data removed]",
      "text/plain": [
       "<Figure size 432x288 with 2 Axes>"
      ]
     },
     "metadata": {
      "needs_background": "light"
     },
     "output_type": "display_data"
    }
   ],
   "source": [
    "plt.imshow(f_plus_total)\n",
    "plt.xlabel('X')\n",
    "plt.ylabel('t')\n",
    "plt.colorbar()"
   ]
  },
  {
   "cell_type": "markdown",
   "metadata": {},
   "source": [
    "I took a coarser time step, but I think the idea is clear."
   ]
  },
  {
   "cell_type": "markdown",
   "metadata": {},
   "source": [
    "Task 5\n",
    "------\n",
    "\n",
    "Write a code in C/C++ and parallelize it using OpenMP."
   ]
  },
  {
   "cell_type": "markdown",
   "metadata": {},
   "source": [
    "The code can be found in `maxwell.c` and `maxwell_mp.c`. "
   ]
  },
  {
   "cell_type": "code",
   "execution_count": 5,
   "metadata": {},
   "outputs": [],
   "source": [
    "omp = np.loadtxt('out.txt')"
   ]
  },
  {
   "cell_type": "code",
   "execution_count": 6,
   "metadata": {},
   "outputs": [
    {
     "data": {
      "text/plain": [
       "(99, 3999)"
      ]
     },
     "execution_count": 6,
     "metadata": {},
     "output_type": "execute_result"
    }
   ],
   "source": [
    "np.shape(omp)"
   ]
  },
  {
   "cell_type": "code",
   "execution_count": 7,
   "metadata": {},
   "outputs": [
    {
     "data": {
      "text/plain": [
       "<matplotlib.image.AxesImage at 0x7ff971dbccc0>"
      ]
     },
     "execution_count": 7,
     "metadata": {},
     "output_type": "execute_result"
    },
    {
     "data": {
      "image/png": "[encoded data removed]",
      "text/plain": [
       "<Figure size 432x288 with 1 Axes>"
      ]
     },
     "metadata": {
      "needs_background": "light"
     },
     "output_type": "display_data"
    }
   ],
   "source": [
    "plt.imshow(omp[:, :99])"
   ]
  },
  {
   "cell_type": "code",
   "execution_count": null,
   "metadata": {},
   "outputs": [],
   "source": []
  }
 ],
 "metadata": {
  "kernelspec": {
   "display_name": "Python 3",
   "language": "python",
   "name": "python3"
  },
  "language_info": {
   "codemirror_mode": {
    "name": "ipython",
    "version": 3
   },
   "file_extension": ".py",
   "mimetype": "text/x-python",
   "name": "python",
   "nbconvert_exporter": "python",
   "pygments_lexer": "ipython3",
   "version": "3.7.3"
  }
 },
 "nbformat": 4,
 "nbformat_minor": 2
}
